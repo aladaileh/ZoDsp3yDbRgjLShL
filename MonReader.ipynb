{
 "cells": [
  {
   "cell_type": "code",
   "execution_count": 33,
   "id": "ebc6015c",
   "metadata": {},
   "outputs": [],
   "source": [
    "import tensorflow as tf"
   ]
  },
  {
   "cell_type": "code",
   "execution_count": 46,
   "id": "219c2117",
   "metadata": {},
   "outputs": [],
   "source": [
    "import numpy as np\n",
    "from keras.models import Sequential\n",
    "from tensorflow.keras import metrics\n",
    "from keras.layers import Dense, activation\n",
    "from keras.applications import VGG16\n",
    "from keras.applications.vgg16 import decode_predictions\n",
    "from keras.applications.vgg16 import preprocess_input\n",
    "from keras.preprocessing.image import ImageDataGenerator\n",
    "from keras.preprocessing import image\n",
    "from PIL import Image"
   ]
  },
  {
   "cell_type": "code",
   "execution_count": 32,
   "id": "3defc84c",
   "metadata": {},
   "outputs": [
    {
     "name": "stdout",
     "output_type": "stream",
     "text": [
      "Model: \"vgg16\"\n",
      "_________________________________________________________________\n",
      " Layer (type)                Output Shape              Param #   \n",
      "=================================================================\n",
      " input_2 (InputLayer)        [(None, 224, 224, 3)]     0         \n",
      "                                                                 \n",
      " block1_conv1 (Conv2D)       (None, 224, 224, 64)      1792      \n",
      "                                                                 \n",
      " block1_conv2 (Conv2D)       (None, 224, 224, 64)      36928     \n",
      "                                                                 \n",
      " block1_pool (MaxPooling2D)  (None, 112, 112, 64)      0         \n",
      "                                                                 \n",
      " block2_conv1 (Conv2D)       (None, 112, 112, 128)     73856     \n",
      "                                                                 \n",
      " block2_conv2 (Conv2D)       (None, 112, 112, 128)     147584    \n",
      "                                                                 \n",
      " block2_pool (MaxPooling2D)  (None, 56, 56, 128)       0         \n",
      "                                                                 \n",
      " block3_conv1 (Conv2D)       (None, 56, 56, 256)       295168    \n",
      "                                                                 \n",
      " block3_conv2 (Conv2D)       (None, 56, 56, 256)       590080    \n",
      "                                                                 \n",
      " block3_conv3 (Conv2D)       (None, 56, 56, 256)       590080    \n",
      "                                                                 \n",
      " block3_pool (MaxPooling2D)  (None, 28, 28, 256)       0         \n",
      "                                                                 \n",
      " block4_conv1 (Conv2D)       (None, 28, 28, 512)       1180160   \n",
      "                                                                 \n",
      " block4_conv2 (Conv2D)       (None, 28, 28, 512)       2359808   \n",
      "                                                                 \n",
      " block4_conv3 (Conv2D)       (None, 28, 28, 512)       2359808   \n",
      "                                                                 \n",
      " block4_pool (MaxPooling2D)  (None, 14, 14, 512)       0         \n",
      "                                                                 \n",
      " block5_conv1 (Conv2D)       (None, 14, 14, 512)       2359808   \n",
      "                                                                 \n",
      " block5_conv2 (Conv2D)       (None, 14, 14, 512)       2359808   \n",
      "                                                                 \n",
      " block5_conv3 (Conv2D)       (None, 14, 14, 512)       2359808   \n",
      "                                                                 \n",
      " block5_pool (MaxPooling2D)  (None, 7, 7, 512)         0         \n",
      "                                                                 \n",
      " flatten (Flatten)           (None, 25088)             0         \n",
      "                                                                 \n",
      " fc1 (Dense)                 (None, 4096)              102764544 \n",
      "                                                                 \n",
      " fc2 (Dense)                 (None, 4096)              16781312  \n",
      "                                                                 \n",
      " predictions (Dense)         (None, 1000)              4097000   \n",
      "                                                                 \n",
      "=================================================================\n",
      "Total params: 138,357,544\n",
      "Trainable params: 138,357,544\n",
      "Non-trainable params: 0\n",
      "_________________________________________________________________\n"
     ]
    }
   ],
   "source": [
    "vgg_model = VGG16()\n",
    "vgg_model.summary()"
   ]
  },
  {
   "cell_type": "code",
   "execution_count": 34,
   "id": "c6411715",
   "metadata": {},
   "outputs": [],
   "source": [
    "last_layer = str(vgg_model.layers[-1])\n",
    "\n",
    "seed = 42\n",
    "np.random.seed(seed)\n",
    "\n",
    "classifier=Sequential()\n",
    "\n",
    "\n",
    "for layer in vgg_model.layers:\n",
    "    if str(layer) != last_layer:\n",
    "        classifier.add(layer)"
   ]
  },
  {
   "cell_type": "code",
   "execution_count": 35,
   "id": "2233bd22",
   "metadata": {},
   "outputs": [],
   "source": [
    "for layer in classifier.layers:\n",
    "    layer.trainable=False"
   ]
  },
  {
   "cell_type": "code",
   "execution_count": 36,
   "id": "0ccee345",
   "metadata": {},
   "outputs": [
    {
     "name": "stdout",
     "output_type": "stream",
     "text": [
      "Model: \"sequential_1\"\n",
      "_________________________________________________________________\n",
      " Layer (type)                Output Shape              Param #   \n",
      "=================================================================\n",
      " block1_conv1 (Conv2D)       (None, 224, 224, 64)      1792      \n",
      "                                                                 \n",
      " block1_conv2 (Conv2D)       (None, 224, 224, 64)      36928     \n",
      "                                                                 \n",
      " block1_pool (MaxPooling2D)  (None, 112, 112, 64)      0         \n",
      "                                                                 \n",
      " block2_conv1 (Conv2D)       (None, 112, 112, 128)     73856     \n",
      "                                                                 \n",
      " block2_conv2 (Conv2D)       (None, 112, 112, 128)     147584    \n",
      "                                                                 \n",
      " block2_pool (MaxPooling2D)  (None, 56, 56, 128)       0         \n",
      "                                                                 \n",
      " block3_conv1 (Conv2D)       (None, 56, 56, 256)       295168    \n",
      "                                                                 \n",
      " block3_conv2 (Conv2D)       (None, 56, 56, 256)       590080    \n",
      "                                                                 \n",
      " block3_conv3 (Conv2D)       (None, 56, 56, 256)       590080    \n",
      "                                                                 \n",
      " block3_pool (MaxPooling2D)  (None, 28, 28, 256)       0         \n",
      "                                                                 \n",
      " block4_conv1 (Conv2D)       (None, 28, 28, 512)       1180160   \n",
      "                                                                 \n",
      " block4_conv2 (Conv2D)       (None, 28, 28, 512)       2359808   \n",
      "                                                                 \n",
      " block4_conv3 (Conv2D)       (None, 28, 28, 512)       2359808   \n",
      "                                                                 \n",
      " block4_pool (MaxPooling2D)  (None, 14, 14, 512)       0         \n",
      "                                                                 \n",
      " block5_conv1 (Conv2D)       (None, 14, 14, 512)       2359808   \n",
      "                                                                 \n",
      " block5_conv2 (Conv2D)       (None, 14, 14, 512)       2359808   \n",
      "                                                                 \n",
      " block5_conv3 (Conv2D)       (None, 14, 14, 512)       2359808   \n",
      "                                                                 \n",
      " block5_pool (MaxPooling2D)  (None, 7, 7, 512)         0         \n",
      "                                                                 \n",
      " flatten (Flatten)           (None, 25088)             0         \n",
      "                                                                 \n",
      " fc1 (Dense)                 (None, 4096)              102764544 \n",
      "                                                                 \n",
      " fc2 (Dense)                 (None, 4096)              16781312  \n",
      "                                                                 \n",
      " dense_1 (Dense)             (None, 1)                 4097      \n",
      "                                                                 \n",
      "=================================================================\n",
      "Total params: 134,264,641\n",
      "Trainable params: 4,097\n",
      "Non-trainable params: 134,260,544\n",
      "_________________________________________________________________\n"
     ]
    }
   ],
   "source": [
    "classifier.add(Dense(1,activation=\"sigmoid\"))\n",
    "classifier.summary()"
   ]
  },
  {
   "cell_type": "code",
   "execution_count": 102,
   "id": "9be3a82e",
   "metadata": {},
   "outputs": [],
   "source": [
    "classifier.compile(loss=\"binary_crossentropy\",metrics=\"f1score\",optimizer=\"adam\")"
   ]
  },
  {
   "cell_type": "code",
   "execution_count": 106,
   "id": "42731672",
   "metadata": {},
   "outputs": [],
   "source": [
    "import tensorflow as tf\n",
    "from keras import backend as K\n",
    "\n",
    "def f1score(y_true, y_pred):\n",
    "    y_pred = K.round(y_pred)\n",
    "    tp = K.sum(K.cast(y_true * y_pred, 'float'), axis=0)\n",
    "    fp = K.sum(K.cast((1 - y_true) * y_pred, 'float'), axis=0)\n",
    "    fn = K.sum(K.cast(y_true * (1 - y_pred), 'float'), axis=0)\n",
    "\n",
    "    precision = tp / (tp + fp + K.epsilon())\n",
    "    recall = tp / (tp + fn + K.epsilon())\n",
    "\n",
    "    f1_score = 2 * precision * recall / (precision + recall + K.epsilon())\n",
    "    return K.mean(f1_score)\n",
    "\n",
    "classifier.compile(loss='binary_crossentropy', metrics=[f1score], optimizer='adam')\n"
   ]
  },
  {
   "cell_type": "code",
   "execution_count": 107,
   "id": "279a85b7",
   "metadata": {},
   "outputs": [],
   "source": [
    "train_deta = ImageDataGenerator(rescale=1./225,\n",
    "                               shear_range=.2,\n",
    "                               horizontal_flip=True,\n",
    "                               zoom_range=.2)\n",
    "\n",
    "test_data = ImageDataGenerator(rescale=1./225)"
   ]
  },
  {
   "cell_type": "code",
   "execution_count": 108,
   "id": "d31e6a9e",
   "metadata": {},
   "outputs": [
    {
     "name": "stdout",
     "output_type": "stream",
     "text": [
      "Found 2392 images belonging to 2 classes.\n",
      "Found 597 images belonging to 2 classes.\n"
     ]
    }
   ],
   "source": [
    "training_data = train_deta.flow_from_directory(\"C:/Users/97155/Downloads/images/images/training\",\n",
    "                                               target_size = (224,224),\n",
    "                                               batch_size=32,\n",
    "                                               class_mode = \"binary\"\n",
    "                                                )\n",
    "\n",
    "testing_data = test_data.flow_from_directory(\"C:/Users/97155/Downloads/images/images/testing\",\n",
    "                                            target_size=(224,224),\n",
    "                                            batch_size=32,\n",
    "                                            class_mode=\"binary\"\n",
    "                                            )"
   ]
  },
  {
   "cell_type": "code",
   "execution_count": 109,
   "id": "3c713d47",
   "metadata": {},
   "outputs": [
    {
     "name": "stderr",
     "output_type": "stream",
     "text": [
      "C:\\Users\\97155\\AppData\\Local\\Temp\\ipykernel_9740\\4125818525.py:1: UserWarning: `Model.fit_generator` is deprecated and will be removed in a future version. Please use `Model.fit`, which supports generators.\n",
      "  classifier.fit_generator(training_data,epochs=10,validation_data=testing_data)\n"
     ]
    },
    {
     "name": "stdout",
     "output_type": "stream",
     "text": [
      "Epoch 1/10\n",
      "75/75 [==============================] - 568s 8s/step - loss: 0.6917 - f1score: 0.5424 - val_loss: 0.6325 - val_f1score: 0.5451\n",
      "Epoch 2/10\n",
      "75/75 [==============================] - 519s 7s/step - loss: 0.6102 - f1score: 0.6355 - val_loss: 0.5723 - val_f1score: 0.7349\n",
      "Epoch 3/10\n",
      "75/75 [==============================] - 524s 7s/step - loss: 0.5695 - f1score: 0.6914 - val_loss: 0.5427 - val_f1score: 0.7508\n",
      "Epoch 4/10\n",
      "75/75 [==============================] - 507s 7s/step - loss: 0.5649 - f1score: 0.7075 - val_loss: 0.5093 - val_f1score: 0.7634\n",
      "Epoch 5/10\n",
      "75/75 [==============================] - 514s 7s/step - loss: 0.5080 - f1score: 0.7756 - val_loss: 0.4944 - val_f1score: 0.7729\n",
      "Epoch 6/10\n",
      "75/75 [==============================] - 506s 7s/step - loss: 0.4973 - f1score: 0.7821 - val_loss: 0.4882 - val_f1score: 0.7645\n",
      "Epoch 7/10\n",
      "75/75 [==============================] - 506s 7s/step - loss: 0.4889 - f1score: 0.7784 - val_loss: 0.4553 - val_f1score: 0.8106\n",
      "Epoch 8/10\n",
      "75/75 [==============================] - 5594s 76s/step - loss: 0.4617 - f1score: 0.8045 - val_loss: 0.4461 - val_f1score: 0.8234\n",
      "Epoch 9/10\n",
      "75/75 [==============================] - 499s 7s/step - loss: 0.4500 - f1score: 0.8143 - val_loss: 0.4713 - val_f1score: 0.7987\n",
      "Epoch 10/10\n",
      "75/75 [==============================] - 511s 7s/step - loss: 0.4520 - f1score: 0.7933 - val_loss: 0.4841 - val_f1score: 0.7076\n"
     ]
    },
    {
     "data": {
      "text/plain": [
       "<keras.callbacks.History at 0x18754513580>"
      ]
     },
     "execution_count": 109,
     "metadata": {},
     "output_type": "execute_result"
    }
   ],
   "source": [
    "classifier.fit_generator(training_data,epochs=10,validation_data=testing_data)"
   ]
  },
  {
   "cell_type": "code",
   "execution_count": 186,
   "id": "d986a317",
   "metadata": {},
   "outputs": [],
   "source": [
    "new_image = Image.open(\"C:/Users/97155/Downloads/WhatsApp Image 2023-06-27 at 11.45.44 AM.jpeg\")"
   ]
  },
  {
   "cell_type": "code",
   "execution_count": 187,
   "id": "ed429cb0",
   "metadata": {},
   "outputs": [],
   "source": [
    "new_image = new_image.resize((224, 224))\n",
    "new_image = np.array(new_image)\n",
    "new_image = np.expand_dims(new_image, axis=0)"
   ]
  },
  {
   "cell_type": "code",
   "execution_count": 188,
   "id": "15f2f089",
   "metadata": {
    "scrolled": true
   },
   "outputs": [
    {
     "name": "stdout",
     "output_type": "stream",
     "text": [
      "1/1 [==============================] - 0s 198ms/step\n",
      "FLIP\n"
     ]
    }
   ],
   "source": [
    "y_pred=classifier.predict(new_image)\n",
    "\n",
    "if y_pred >.5:\n",
    "    print(\"NOT FLIP\")\n",
    "else:\n",
    "    print(\"FLIP\")\n"
   ]
  },
  {
   "cell_type": "code",
   "execution_count": 189,
   "id": "8c5b6d50",
   "metadata": {},
   "outputs": [
    {
     "data": {
      "text/plain": [
       "array([[0.02131842]], dtype=float32)"
      ]
     },
     "execution_count": 189,
     "metadata": {},
     "output_type": "execute_result"
    }
   ],
   "source": [
    "y_pred"
   ]
  },
  {
   "cell_type": "code",
   "execution_count": 167,
   "id": "2df1707d",
   "metadata": {},
   "outputs": [],
   "source": [
    "new_image1=Image.open(\"C:/Users/97155/Downloads/WhatsApp Image 2023-06-27 at 11.40.10 AM.jpeg\")\n",
    "new_image2=Image.open(\"C:/Users/97155/Downloads/WhatsApp Image 2023-06-27 at 11.40.10 AM (1).jpeg\")\n",
    "new_image3=Image.open(\"C:/Users/97155/Downloads/WhatsApp Image 2023-06-27 at 11.40.09 AM.jpeg\")\n",
    "new_image4=Image.open(\"C:/Users/97155/Downloads/WhatsApp Image 2023-06-27 at 11.45.44 AM.jpeg\")\n",
    "new_image5=Image.open(\"C:/Users/97155/Downloads/WhatsApp Image 2023-06-27 at 11.47.36 AM.jpeg\")"
   ]
  },
  {
   "cell_type": "code",
   "execution_count": 159,
   "id": "4feb3ac1",
   "metadata": {},
   "outputs": [],
   "source": [
    "images=[new_image1,new_image2,new_image3,new_image4,new_image5]"
   ]
  },
  {
   "cell_type": "code",
   "execution_count": 160,
   "id": "872a131b",
   "metadata": {},
   "outputs": [
    {
     "name": "stdout",
     "output_type": "stream",
     "text": [
      "1/1 [==============================] - 0s 203ms/step\n",
      "1/1 [==============================] - 0s 204ms/step\n",
      "1/1 [==============================] - 0s 191ms/step\n",
      "1/1 [==============================] - 0s 201ms/step\n",
      "1/1 [==============================] - 0s 213ms/step\n"
     ]
    }
   ],
   "source": [
    "pred = []\n",
    "for i in images:\n",
    "    i = i.resize((224, 224))\n",
    "    i = np.array(i)\n",
    "    i = np.expand_dims(i, axis=0)\n",
    "    y_pred = classifier.predict(i)\n",
    "\n",
    "    if y_pred[0] > 0.5:  \n",
    "        a = \"NOT FLIP\"\n",
    "    else:\n",
    "        a = \"FLIP\"\n",
    "\n",
    "    pred.append(a)\n",
    "\n",
    "\n",
    "    "
   ]
  },
  {
   "cell_type": "code",
   "execution_count": 161,
   "id": "aae93988",
   "metadata": {},
   "outputs": [
    {
     "data": {
      "text/plain": [
       "['NOT FLIP', 'NOT FLIP', 'NOT FLIP', 'FLIP', 'FLIP']"
      ]
     },
     "execution_count": 161,
     "metadata": {},
     "output_type": "execute_result"
    }
   ],
   "source": [
    "pred"
   ]
  },
  {
   "cell_type": "code",
   "execution_count": null,
   "id": "3f5d4caa",
   "metadata": {},
   "outputs": [],
   "source": []
  }
 ],
 "metadata": {
  "kernelspec": {
   "display_name": "Python 3 (ipykernel)",
   "language": "python",
   "name": "python3"
  },
  "language_info": {
   "codemirror_mode": {
    "name": "ipython",
    "version": 3
   },
   "file_extension": ".py",
   "mimetype": "text/x-python",
   "name": "python",
   "nbconvert_exporter": "python",
   "pygments_lexer": "ipython3",
   "version": "3.9.13"
  }
 },
 "nbformat": 4,
 "nbformat_minor": 5
}
